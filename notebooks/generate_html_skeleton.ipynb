{
 "cells": [
  {
   "cell_type": "markdown",
   "source": [
    "# Generating HTML skeleton"
   ],
   "metadata": {
    "collapsed": false
   },
   "id": "e149c1c21da2bdce"
  },
  {
   "cell_type": "markdown",
   "source": [
    "In this example, based on the sample webpage skeleton from a text file, we will instruct the model to recreate this structure in HTML."
   ],
   "metadata": {
    "collapsed": false
   },
   "id": "4972290538552b7"
  },
  {
   "cell_type": "code",
   "execution_count": null,
   "outputs": [],
   "source": [],
   "metadata": {
    "collapsed": false
   },
   "id": "66d8f1d629857e39"
  }
 ],
 "metadata": {
  "kernelspec": {
   "display_name": "Python 3",
   "language": "python",
   "name": "python3"
  },
  "language_info": {
   "codemirror_mode": {
    "name": "ipython",
    "version": 2
   },
   "file_extension": ".py",
   "mimetype": "text/x-python",
   "name": "python",
   "nbconvert_exporter": "python",
   "pygments_lexer": "ipython2",
   "version": "2.7.6"
  }
 },
 "nbformat": 4,
 "nbformat_minor": 5
}
